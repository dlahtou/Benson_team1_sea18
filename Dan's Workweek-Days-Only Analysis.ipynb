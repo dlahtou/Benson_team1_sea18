{
 "cells": [
  {
   "cell_type": "markdown",
   "metadata": {},
   "source": [
    "# This code finds the top X stations by total traffic for every day in the week, and plots total traffic lines spanning the workweek on a single figure."
   ]
  },
  {
   "cell_type": "code",
   "execution_count": 1,
   "metadata": {},
   "outputs": [],
   "source": [
    "import numpy as np\n",
    "import pandas as pd\n",
    "from os.path import join, isfile\n",
    "from os import listdir\n",
    "import matplotlib.pyplot as plt\n",
    "import seaborn as sns\n",
    "\n",
    "sns.set_style(\"white\") #lolidk"
   ]
  },
  {
   "cell_type": "code",
   "execution_count": 2,
   "metadata": {},
   "outputs": [],
   "source": [
    "## SET THESE VALUES TO CUSTOMIZE CHART AT END\n",
    "number_of_stations = 10                                   # will get top X stations by total traffic\n",
    "highlight_stations = ['TIMES SQ-42 ST', '34 ST-HERALD SQ',\n",
    "                      '23 ST', '42 ST-PORT AUTH',\n",
    "                     '14 ST-UNION SQ']  # PLEASE DOUBLE CHECK THIS -- SHOULD BE STATIONS NEAR\n",
    "                      #                                                                   TECH OFFICES"
   ]
  },
  {
   "cell_type": "code",
   "execution_count": 3,
   "metadata": {},
   "outputs": [],
   "source": [
    "dataframes = []\n",
    "\n",
    "for filepath in [join('BensonData', f) for f in listdir('BensonData')]:\n",
    "    new_df = pd.read_csv(filepath, index_col=0)\n",
    "    dataframes.append(new_df)\n",
    "\n",
    "df1 = pd.concat(dataframes)\n",
    "df1.reset_index(inplace=True)"
   ]
  },
  {
   "cell_type": "code",
   "execution_count": 4,
   "metadata": {},
   "outputs": [],
   "source": [
    "df2 = (df1[df1['DWEEKDAY'] < 5].sort_values(by=['STATION', 'LINENAME'])\n",
    "          .groupby(['STATION', 'LINENAME'])['TOTAL_TRAFFIC']\n",
    "          .sum())"
   ]
  },
  {
   "cell_type": "code",
   "execution_count": 5,
   "metadata": {},
   "outputs": [
    {
     "data": {
      "text/plain": [
       "STATION          LINENAME    \n",
       "GRD CNTRL-42 ST  4567S           24490130.0\n",
       "34 ST-HERALD SQ  BDFMNQRW        18234734.0\n",
       "34 ST-PENN STA   ACE             12912245.0\n",
       "14 ST-UNION SQ   LNQR456W        11599743.0\n",
       "42 ST-PORT AUTH  ACENQRS1237W    11286282.0\n",
       "FULTON ST        2345ACJZ        10725626.0\n",
       "TIMES SQ-42 ST   1237ACENQRSW    10384668.0\n",
       "47-50 STS ROCK   BDFM            10227542.0\n",
       "PATH NEW WTC     1                9460392.0\n",
       "59 ST COLUMBUS   ABCD1            8954471.0\n",
       "Name: TOTAL_TRAFFIC, dtype: float64"
      ]
     },
     "execution_count": 5,
     "metadata": {},
     "output_type": "execute_result"
    }
   ],
   "source": [
    "df2.sort_values(ascending=False, inplace=True)\n",
    "df2[:number_of_stations]"
   ]
  },
  {
   "cell_type": "code",
   "execution_count": 6,
   "metadata": {},
   "outputs": [],
   "source": [
    "df1.set_index(['STATION', 'LINENAME'], inplace=True)"
   ]
  },
  {
   "cell_type": "code",
   "execution_count": 7,
   "metadata": {
    "scrolled": true
   },
   "outputs": [],
   "source": [
    "topX_totaltraffic = df2[:number_of_stations]\n",
    "stlntuples = topX_totaltraffic.index.tolist()\n",
    "minidf1 = df1[(df1['DWEEKDAY'] < 5)&(df1.index.isin(stlntuples))]"
   ]
  },
  {
   "cell_type": "code",
   "execution_count": 8,
   "metadata": {},
   "outputs": [],
   "source": [
    "#df2[:10].plot.barh()"
   ]
  },
  {
   "cell_type": "code",
   "execution_count": 9,
   "metadata": {},
   "outputs": [],
   "source": [
    "df_dweekday_means = (minidf1.sort_values(by=['STATION', 'LINENAME']).reset_index()\n",
    "                    .groupby(['STATION', 'LINENAME', 'DWEEKDAY', 'DDATE']).sum().reset_index()\n",
    "                    .groupby(['STATION', 'LINENAME', 'DWEEKDAY']).mean())"
   ]
  },
  {
   "cell_type": "code",
   "execution_count": 10,
   "metadata": {},
   "outputs": [
    {
     "data": {
      "text/html": [
       "<div>\n",
       "<style scoped>\n",
       "    .dataframe tbody tr th:only-of-type {\n",
       "        vertical-align: middle;\n",
       "    }\n",
       "\n",
       "    .dataframe tbody tr th {\n",
       "        vertical-align: top;\n",
       "    }\n",
       "\n",
       "    .dataframe thead th {\n",
       "        text-align: right;\n",
       "    }\n",
       "</style>\n",
       "<table border=\"1\" class=\"dataframe\">\n",
       "  <thead>\n",
       "    <tr style=\"text-align: right;\">\n",
       "      <th></th>\n",
       "      <th></th>\n",
       "      <th>DWEEKDAY</th>\n",
       "      <th>index</th>\n",
       "      <th>ENTRIES</th>\n",
       "      <th>EXITS</th>\n",
       "      <th>WEEKDAY</th>\n",
       "      <th>ENTRY_DIFFS</th>\n",
       "      <th>EXIT_DIFFS</th>\n",
       "      <th>TOTAL_TRAFFIC</th>\n",
       "    </tr>\n",
       "    <tr>\n",
       "      <th>STATION</th>\n",
       "      <th>LINENAME</th>\n",
       "      <th></th>\n",
       "      <th></th>\n",
       "      <th></th>\n",
       "      <th></th>\n",
       "      <th></th>\n",
       "      <th></th>\n",
       "      <th></th>\n",
       "      <th></th>\n",
       "    </tr>\n",
       "  </thead>\n",
       "  <tbody>\n",
       "    <tr>\n",
       "      <th rowspan=\"5\" valign=\"top\">14 ST-UNION SQ</th>\n",
       "      <th>LNQR456W</th>\n",
       "      <td>0</td>\n",
       "      <td>7.965374e+05</td>\n",
       "      <td>2.721395e+09</td>\n",
       "      <td>1.221273e+09</td>\n",
       "      <td>3.000000</td>\n",
       "      <td>66499.000000</td>\n",
       "      <td>58796.176471</td>\n",
       "      <td>125295.176471</td>\n",
       "    </tr>\n",
       "    <tr>\n",
       "      <th>LNQR456W</th>\n",
       "      <td>1</td>\n",
       "      <td>7.882726e+05</td>\n",
       "      <td>2.690607e+09</td>\n",
       "      <td>1.207382e+09</td>\n",
       "      <td>158.000000</td>\n",
       "      <td>74034.117647</td>\n",
       "      <td>63856.941176</td>\n",
       "      <td>137891.058824</td>\n",
       "    </tr>\n",
       "    <tr>\n",
       "      <th>LNQR456W</th>\n",
       "      <td>2</td>\n",
       "      <td>7.892546e+05</td>\n",
       "      <td>2.679858e+09</td>\n",
       "      <td>1.202175e+09</td>\n",
       "      <td>313.058824</td>\n",
       "      <td>75590.294118</td>\n",
       "      <td>64810.529412</td>\n",
       "      <td>140400.823529</td>\n",
       "    </tr>\n",
       "    <tr>\n",
       "      <th>LNQR456W</th>\n",
       "      <td>3</td>\n",
       "      <td>7.968708e+05</td>\n",
       "      <td>2.715157e+09</td>\n",
       "      <td>1.217921e+09</td>\n",
       "      <td>471.882353</td>\n",
       "      <td>76052.117647</td>\n",
       "      <td>65132.705882</td>\n",
       "      <td>141184.823529</td>\n",
       "    </tr>\n",
       "    <tr>\n",
       "      <th>LNQR456W</th>\n",
       "      <td>4</td>\n",
       "      <td>7.632908e+05</td>\n",
       "      <td>2.604332e+09</td>\n",
       "      <td>1.168373e+09</td>\n",
       "      <td>602.444444</td>\n",
       "      <td>69441.388889</td>\n",
       "      <td>60482.000000</td>\n",
       "      <td>129923.388889</td>\n",
       "    </tr>\n",
       "    <tr>\n",
       "      <th rowspan=\"2\" valign=\"top\">34 ST-HERALD SQ</th>\n",
       "      <th>BDFMNQRW</th>\n",
       "      <td>0</td>\n",
       "      <td>2.260695e+07</td>\n",
       "      <td>3.408304e+10</td>\n",
       "      <td>4.426118e+10</td>\n",
       "      <td>47.647059</td>\n",
       "      <td>107597.764706</td>\n",
       "      <td>102669.823529</td>\n",
       "      <td>204536.588235</td>\n",
       "    </tr>\n",
       "    <tr>\n",
       "      <th>BDFMNQRW</th>\n",
       "      <td>1</td>\n",
       "      <td>2.240549e+07</td>\n",
       "      <td>3.376292e+10</td>\n",
       "      <td>4.378726e+10</td>\n",
       "      <td>371.941176</td>\n",
       "      <td>115487.058824</td>\n",
       "      <td>111871.705882</td>\n",
       "      <td>221405.647059</td>\n",
       "    </tr>\n",
       "  </tbody>\n",
       "</table>\n",
       "</div>"
      ],
      "text/plain": [
       "                          DWEEKDAY         index       ENTRIES         EXITS  \\\n",
       "STATION         LINENAME                                                       \n",
       "14 ST-UNION SQ  LNQR456W         0  7.965374e+05  2.721395e+09  1.221273e+09   \n",
       "                LNQR456W         1  7.882726e+05  2.690607e+09  1.207382e+09   \n",
       "                LNQR456W         2  7.892546e+05  2.679858e+09  1.202175e+09   \n",
       "                LNQR456W         3  7.968708e+05  2.715157e+09  1.217921e+09   \n",
       "                LNQR456W         4  7.632908e+05  2.604332e+09  1.168373e+09   \n",
       "34 ST-HERALD SQ BDFMNQRW         0  2.260695e+07  3.408304e+10  4.426118e+10   \n",
       "                BDFMNQRW         1  2.240549e+07  3.376292e+10  4.378726e+10   \n",
       "\n",
       "                             WEEKDAY    ENTRY_DIFFS     EXIT_DIFFS  \\\n",
       "STATION         LINENAME                                             \n",
       "14 ST-UNION SQ  LNQR456W    3.000000   66499.000000   58796.176471   \n",
       "                LNQR456W  158.000000   74034.117647   63856.941176   \n",
       "                LNQR456W  313.058824   75590.294118   64810.529412   \n",
       "                LNQR456W  471.882353   76052.117647   65132.705882   \n",
       "                LNQR456W  602.444444   69441.388889   60482.000000   \n",
       "34 ST-HERALD SQ BDFMNQRW   47.647059  107597.764706  102669.823529   \n",
       "                BDFMNQRW  371.941176  115487.058824  111871.705882   \n",
       "\n",
       "                          TOTAL_TRAFFIC  \n",
       "STATION         LINENAME                 \n",
       "14 ST-UNION SQ  LNQR456W  125295.176471  \n",
       "                LNQR456W  137891.058824  \n",
       "                LNQR456W  140400.823529  \n",
       "                LNQR456W  141184.823529  \n",
       "                LNQR456W  129923.388889  \n",
       "34 ST-HERALD SQ BDFMNQRW  204536.588235  \n",
       "                BDFMNQRW  221405.647059  "
      ]
     },
     "execution_count": 10,
     "metadata": {},
     "output_type": "execute_result"
    }
   ],
   "source": [
    "df_dweekday_means.reset_index(level=['DWEEKDAY'], inplace=True)\n",
    "df_dweekday_means.head(7)"
   ]
  },
  {
   "cell_type": "code",
   "execution_count": 11,
   "metadata": {},
   "outputs": [],
   "source": [
    "# df_dweekday_means.loc[stlntuples[0][0], stlntuples[0][1]]"
   ]
  },
  {
   "cell_type": "code",
   "execution_count": 67,
   "metadata": {},
   "outputs": [
    {
     "data": {
      "image/png": "[encoded data removed]",
      "text/plain": [
       "<Figure size 1080x720 with 1 Axes>"
      ]
     },
     "metadata": {},
     "output_type": "display_data"
    }
   ],
   "source": [
    "plt.figure(figsize=[15,10])\n",
    "for stn, lnm in stlntuples:\n",
    "    littleframe = df_dweekday_means.loc[stn, lnm]\n",
    "    plt.plot(littleframe['DWEEKDAY'], littleframe['TOTAL_TRAFFIC'], label=stn,\n",
    "            color='#53868B' if stn in highlight_stations else 'lightgray',\n",
    "            lw=4)\n",
    "    if stn in highlight_stations:\n",
    "        plt.text(littleframe['DWEEKDAY'].values[-1]+0.05, littleframe['TOTAL_TRAFFIC'].values[-1]-3000, stn)\n",
    "\n",
    "\n",
    "ticks_x =['Monday', 'Tuesday', 'Wednesday', 'Thursday', 'Friday', 'Saturday', 'Sunday']\n",
    "\n",
    "ax = plt.gca()\n",
    "plt.title(\"Workdays Have Consistent Traffic\", size=30, loc='left')\n",
    "plt.xticks(np.arange(0,5), ticks_x, size = 20)\n",
    "plt.yticks(np.arange(0,320000, 50000))\n",
    "#plt.legend(bbox_to_anchor=(1.01,1))\n",
    "plt.ylabel(\"Mean Traffic\", rotation=0, labelpad = 75, size = 15)\n",
    "ax.yaxis.set_label_coords(-0.06, 0.97)\n",
    "sns.despine()\n",
    "plt.gcf().text(0.77,0.08, \"n = 227529 turnstile reports\")\n",
    "plt.gcf().text(0.664,0.06, \"lines represent 10 stations with highest total traffic\")\n",
    "plt.savefig('Workdays-Consistent-Traffic.png')"
   ]
  },
  {
   "cell_type": "code",
   "execution_count": 13,
   "metadata": {},
   "outputs": [
    {
     "data": {
      "text/plain": [
       "4"
      ]
     },
     "execution_count": 13,
     "metadata": {},
     "output_type": "execute_result"
    }
   ],
   "source": [
    "littleframe['DWEEKDAY'].values[-1]"
   ]
  },
  {
   "cell_type": "code",
   "execution_count": 18,
   "metadata": {},
   "outputs": [
    {
     "name": "stdout",
     "output_type": "stream",
     "text": [
      "<class 'pandas.core.frame.DataFrame'>\n",
      "MultiIndex: 227529 entries, (34 ST-HERALD SQ, BDFMNQRW) to (GRD CNTRL-42 ST, 4567S)\n",
      "Data columns (total 17 columns):\n",
      "index            227529 non-null int64\n",
      "C/A              227529 non-null object\n",
      "UNIT             227529 non-null object\n",
      "SCP              227529 non-null object\n",
      "DIVISION         227529 non-null object\n",
      "DATE             227529 non-null object\n",
      "TIME             227529 non-null object\n",
      "DESC             227529 non-null object\n",
      "ENTRIES          227529 non-null int64\n",
      "EXITS            227529 non-null int64\n",
      "DATETIME         227529 non-null object\n",
      "WEEKDAY          227529 non-null int64\n",
      "ENTRY_DIFFS      219470 non-null float64\n",
      "EXIT_DIFFS       222392 non-null float64\n",
      "TOTAL_TRAFFIC    218939 non-null float64\n",
      "DDATE            227529 non-null object\n",
      "DWEEKDAY         227529 non-null int64\n",
      "dtypes: float64(3), int64(5), object(9)\n",
      "memory usage: 30.2+ MB\n"
     ]
    }
   ],
   "source": [
    "minidf1.info()"
   ]
  },
  {
   "cell_type": "code",
   "execution_count": 51,
   "metadata": {},
   "outputs": [
    {
     "name": "stdout",
     "output_type": "stream",
     "text": [
      "<class 'pandas.core.frame.DataFrame'>\n",
      "MultiIndex: 3350988 entries, (59 ST, NQR456W) to (RIT-ROOSEVELT, R)\n",
      "Data columns (total 17 columns):\n",
      "index            int64\n",
      "C/A              object\n",
      "UNIT             object\n",
      "SCP              object\n",
      "DIVISION         object\n",
      "DATE             object\n",
      "TIME             object\n",
      "DESC             object\n",
      "ENTRIES          int64\n",
      "EXITS            int64\n",
      "DATETIME         object\n",
      "WEEKDAY          int64\n",
      "ENTRY_DIFFS      float64\n",
      "EXIT_DIFFS       float64\n",
      "TOTAL_TRAFFIC    float64\n",
      "DDATE            object\n",
      "DWEEKDAY         int64\n",
      "dtypes: float64(3), int64(5), object(9)\n",
      "memory usage: 444.2+ MB\n"
     ]
    }
   ],
   "source": [
    "df1.info()"
   ]
  },
  {
   "cell_type": "code",
   "execution_count": null,
   "metadata": {},
   "outputs": [],
   "source": []
  }
 ],
 "metadata": {
  "kernelspec": {
   "display_name": "Python 3",
   "language": "python",
   "name": "python3"
  },
  "language_info": {
   "codemirror_mode": {
    "name": "ipython",
    "version": 3
   },
   "file_extension": ".py",
   "mimetype": "text/x-python",
   "name": "python",
   "nbconvert_exporter": "python",
   "pygments_lexer": "ipython3",
   "version": "3.6.5"
  }
 },
 "nbformat": 4,
 "nbformat_minor": 2
}
