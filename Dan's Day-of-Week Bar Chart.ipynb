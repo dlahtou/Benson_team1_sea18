{
 "cells": [
  {
   "cell_type": "markdown",
   "metadata": {},
   "source": [
    "# This code aggregates values by day-of-week for the top 30 highest traffic stations, then displays a bar chart with the average traffic on each day"
   ]
  },
  {
   "cell_type": "code",
   "execution_count": 1,
   "metadata": {},
   "outputs": [],
   "source": [
    "import numpy as np\n",
    "import pandas as pd\n",
    "from os.path import join, isfile\n",
    "from os import listdir\n",
    "import matplotlib.pyplot as plt\n",
    "import seaborn as sns\n",
    "\n",
    "sns.set_style(\"white\") #lolidk"
   ]
  },
  {
   "cell_type": "code",
   "execution_count": 2,
   "metadata": {},
   "outputs": [],
   "source": [
    "## SET THESE VALUES TO CUSTOMIZE CHART AT END\n",
    "number_of_stations = 30                                   # will get top X stations by total traffic\n",
    "highlight_stations = ['TIMES SQ-42 ST', '34 ST-HERALD SQ',\n",
    "                      '23 ST', '42 ST-PORT AUTH',\n",
    "                     '14 ST-UNION SQ'] # PLEASE DOUBLE CHECK THIS -- SHOULD BE STATIONS NEAR\n",
    "                      #                                                                   TECH OFFICES"
   ]
  },
  {
   "cell_type": "code",
   "execution_count": 3,
   "metadata": {},
   "outputs": [],
   "source": [
    "dataframes = []\n",
    "\n",
    "for filepath in [join('BensonData', f) for f in listdir('BensonData')]:\n",
    "    new_df = pd.read_csv(filepath, index_col=0)\n",
    "    dataframes.append(new_df)\n",
    "\n",
    "df1 = pd.concat(dataframes)\n",
    "df1.reset_index(inplace=True)"
   ]
  },
  {
   "cell_type": "code",
   "execution_count": 4,
   "metadata": {},
   "outputs": [],
   "source": [
    "df2 = (df1.sort_values(by=['STATION', 'LINENAME'])\n",
    "          .groupby(['STATION', 'LINENAME'])['TOTAL_TRAFFIC']\n",
    "          .sum())"
   ]
  },
  {
   "cell_type": "code",
   "execution_count": 5,
   "metadata": {},
   "outputs": [
    {
     "data": {
      "text/plain": [
       "STATION          LINENAME    \n",
       "GRD CNTRL-42 ST  4567S           27852140.0\n",
       "34 ST-HERALD SQ  BDFMNQRW        21893193.0\n",
       "34 ST-PENN STA   ACE             15704563.0\n",
       "14 ST-UNION SQ   LNQR456W        14406701.0\n",
       "42 ST-PORT AUTH  ACENQRS1237W    14078973.0\n",
       "TIMES SQ-42 ST   1237ACENQRSW    12801085.0\n",
       "FULTON ST        2345ACJZ        12064174.0\n",
       "47-50 STS ROCK   BDFM            11039468.0\n",
       "59 ST COLUMBUS   ABCD1           11034421.0\n",
       "FLUSHING-MAIN    7               10757264.0\n",
       "PATH NEW WTC     1               10457698.0\n",
       "JKSN HT-ROOSVLT  EFMR7            9313648.0\n",
       "34 ST-PENN STA   123ACE           9066183.0\n",
       "W 4 ST-WASH SQ   ABCDEFM          8571632.0\n",
       "86 ST            456              8544807.0\n",
       "CANAL ST         JNQRZ6W          8481817.0\n",
       "59 ST            456NQRW          8169286.0\n",
       "LEXINGTON AV/53  EM6              7843091.0\n",
       "42 ST-BRYANT PK  BDFM7            7817272.0\n",
       "96 ST            123              7802660.0\n",
       "72 ST            123              7142366.0\n",
       "BEDFORD AV       L                6719205.0\n",
       "34 ST-PENN STA   123              6425223.0\n",
       "JAMAICA CENTER   EJZ              6364824.0\n",
       "14 ST-UNION SQ   456LNQRW         6251124.0\n",
       "JAY ST-METROTEC  ACF              6022454.0\n",
       "72 ST-2 AVE      Q                5676826.0\n",
       "BOWLING GREEN    45               5676248.0\n",
       "125 ST           ACBD             5657071.0\n",
       "BOROUGH HALL     2345R            5507440.0\n",
       "Name: TOTAL_TRAFFIC, dtype: float64"
      ]
     },
     "execution_count": 5,
     "metadata": {},
     "output_type": "execute_result"
    }
   ],
   "source": [
    "df2.sort_values(ascending=False, inplace=True)\n",
    "df2[:number_of_stations]"
   ]
  },
  {
   "cell_type": "code",
   "execution_count": 6,
   "metadata": {},
   "outputs": [],
   "source": [
    "df1.set_index(['STATION', 'LINENAME'], inplace=True)"
   ]
  },
  {
   "cell_type": "code",
   "execution_count": 7,
   "metadata": {
    "scrolled": true
   },
   "outputs": [],
   "source": [
    "topX_totaltraffic = df2[:number_of_stations]\n",
    "stlntuples = topX_totaltraffic.index.tolist()\n",
    "minidf1 = df1[df1.index.isin(stlntuples)]"
   ]
  },
  {
   "cell_type": "code",
   "execution_count": 8,
   "metadata": {},
   "outputs": [
    {
     "name": "stdout",
     "output_type": "stream",
     "text": [
      "<class 'pandas.core.frame.DataFrame'>\n",
      "MultiIndex: 640222 entries, (34 ST-HERALD SQ, BDFMNQRW) to (BOROUGH HALL, 2345R)\n",
      "Data columns (total 17 columns):\n",
      "index            640222 non-null int64\n",
      "C/A              640222 non-null object\n",
      "UNIT             640222 non-null object\n",
      "SCP              640222 non-null object\n",
      "DIVISION         640222 non-null object\n",
      "DATE             640222 non-null object\n",
      "TIME             640222 non-null object\n",
      "DESC             640222 non-null object\n",
      "ENTRIES          640222 non-null int64\n",
      "EXITS            640222 non-null int64\n",
      "DATETIME         640222 non-null object\n",
      "WEEKDAY          640222 non-null int64\n",
      "ENTRY_DIFFS      615961 non-null float64\n",
      "EXIT_DIFFS       621419 non-null float64\n",
      "TOTAL_TRAFFIC    613104 non-null float64\n",
      "DDATE            640222 non-null object\n",
      "DWEEKDAY         640222 non-null int64\n",
      "dtypes: float64(3), int64(5), object(9)\n",
      "memory usage: 84.9+ MB\n"
     ]
    }
   ],
   "source": [
    "minidf1.info()"
   ]
  },
  {
   "cell_type": "code",
   "execution_count": 9,
   "metadata": {},
   "outputs": [],
   "source": [
    "df_dweekday_means = (minidf1.sort_values(by=['STATION', 'LINENAME']).reset_index()\n",
    "                    .groupby(['STATION', 'LINENAME', 'DWEEKDAY', 'DDATE']).sum().reset_index()\n",
    "                    .groupby(['STATION', 'LINENAME', 'DWEEKDAY']).mean())"
   ]
  },
  {
   "cell_type": "code",
   "execution_count": 10,
   "metadata": {},
   "outputs": [
    {
     "data": {
      "text/html": [
       "<div>\n",
       "<style scoped>\n",
       "    .dataframe tbody tr th:only-of-type {\n",
       "        vertical-align: middle;\n",
       "    }\n",
       "\n",
       "    .dataframe tbody tr th {\n",
       "        vertical-align: top;\n",
       "    }\n",
       "\n",
       "    .dataframe thead th {\n",
       "        text-align: right;\n",
       "    }\n",
       "</style>\n",
       "<table border=\"1\" class=\"dataframe\">\n",
       "  <thead>\n",
       "    <tr style=\"text-align: right;\">\n",
       "      <th></th>\n",
       "      <th></th>\n",
       "      <th>DWEEKDAY</th>\n",
       "      <th>index</th>\n",
       "      <th>ENTRIES</th>\n",
       "      <th>EXITS</th>\n",
       "      <th>WEEKDAY</th>\n",
       "      <th>ENTRY_DIFFS</th>\n",
       "      <th>EXIT_DIFFS</th>\n",
       "      <th>TOTAL_TRAFFIC</th>\n",
       "    </tr>\n",
       "    <tr>\n",
       "      <th>STATION</th>\n",
       "      <th>LINENAME</th>\n",
       "      <th></th>\n",
       "      <th></th>\n",
       "      <th></th>\n",
       "      <th></th>\n",
       "      <th></th>\n",
       "      <th></th>\n",
       "      <th></th>\n",
       "      <th></th>\n",
       "    </tr>\n",
       "  </thead>\n",
       "  <tbody>\n",
       "    <tr>\n",
       "      <th rowspan=\"7\" valign=\"top\">125 ST</th>\n",
       "      <th>ACBD</th>\n",
       "      <td>0</td>\n",
       "      <td>4.268117e+06</td>\n",
       "      <td>2.989281e+09</td>\n",
       "      <td>2.482731e+09</td>\n",
       "      <td>14.117647</td>\n",
       "      <td>27056.823529</td>\n",
       "      <td>21978.411765</td>\n",
       "      <td>49035.235294</td>\n",
       "    </tr>\n",
       "    <tr>\n",
       "      <th>ACBD</th>\n",
       "      <td>1</td>\n",
       "      <td>4.271303e+06</td>\n",
       "      <td>2.989606e+09</td>\n",
       "      <td>2.482943e+09</td>\n",
       "      <td>110.117647</td>\n",
       "      <td>28982.705882</td>\n",
       "      <td>23413.647059</td>\n",
       "      <td>52396.352941</td>\n",
       "    </tr>\n",
       "    <tr>\n",
       "      <th>ACBD</th>\n",
       "      <td>2</td>\n",
       "      <td>4.298252e+06</td>\n",
       "      <td>3.017378e+09</td>\n",
       "      <td>2.506284e+09</td>\n",
       "      <td>207.294118</td>\n",
       "      <td>28944.117647</td>\n",
       "      <td>23636.823529</td>\n",
       "      <td>52580.941176</td>\n",
       "    </tr>\n",
       "    <tr>\n",
       "      <th>ACBD</th>\n",
       "      <td>3</td>\n",
       "      <td>4.272459e+06</td>\n",
       "      <td>2.989954e+09</td>\n",
       "      <td>2.483226e+09</td>\n",
       "      <td>302.117647</td>\n",
       "      <td>29402.117647</td>\n",
       "      <td>23758.647059</td>\n",
       "      <td>53160.764706</td>\n",
       "    </tr>\n",
       "    <tr>\n",
       "      <th>ACBD</th>\n",
       "      <td>4</td>\n",
       "      <td>3.986385e+06</td>\n",
       "      <td>2.795126e+09</td>\n",
       "      <td>2.321714e+09</td>\n",
       "      <td>370.444444</td>\n",
       "      <td>24740.166667</td>\n",
       "      <td>19507.333333</td>\n",
       "      <td>44247.500000</td>\n",
       "    </tr>\n",
       "    <tr>\n",
       "      <th>ACBD</th>\n",
       "      <td>5</td>\n",
       "      <td>4.269576e+06</td>\n",
       "      <td>2.989174e+09</td>\n",
       "      <td>2.482572e+09</td>\n",
       "      <td>493.176471</td>\n",
       "      <td>22714.470588</td>\n",
       "      <td>20556.176471</td>\n",
       "      <td>43270.647059</td>\n",
       "    </tr>\n",
       "    <tr>\n",
       "      <th>ACBD</th>\n",
       "      <td>6</td>\n",
       "      <td>4.267547e+06</td>\n",
       "      <td>2.988615e+09</td>\n",
       "      <td>2.481983e+09</td>\n",
       "      <td>490.941176</td>\n",
       "      <td>18081.294118</td>\n",
       "      <td>17393.352941</td>\n",
       "      <td>35474.647059</td>\n",
       "    </tr>\n",
       "  </tbody>\n",
       "</table>\n",
       "</div>"
      ],
      "text/plain": [
       "                  DWEEKDAY         index       ENTRIES         EXITS  \\\n",
       "STATION LINENAME                                                       \n",
       "125 ST  ACBD             0  4.268117e+06  2.989281e+09  2.482731e+09   \n",
       "        ACBD             1  4.271303e+06  2.989606e+09  2.482943e+09   \n",
       "        ACBD             2  4.298252e+06  3.017378e+09  2.506284e+09   \n",
       "        ACBD             3  4.272459e+06  2.989954e+09  2.483226e+09   \n",
       "        ACBD             4  3.986385e+06  2.795126e+09  2.321714e+09   \n",
       "        ACBD             5  4.269576e+06  2.989174e+09  2.482572e+09   \n",
       "        ACBD             6  4.267547e+06  2.988615e+09  2.481983e+09   \n",
       "\n",
       "                     WEEKDAY   ENTRY_DIFFS    EXIT_DIFFS  TOTAL_TRAFFIC  \n",
       "STATION LINENAME                                                         \n",
       "125 ST  ACBD       14.117647  27056.823529  21978.411765   49035.235294  \n",
       "        ACBD      110.117647  28982.705882  23413.647059   52396.352941  \n",
       "        ACBD      207.294118  28944.117647  23636.823529   52580.941176  \n",
       "        ACBD      302.117647  29402.117647  23758.647059   53160.764706  \n",
       "        ACBD      370.444444  24740.166667  19507.333333   44247.500000  \n",
       "        ACBD      493.176471  22714.470588  20556.176471   43270.647059  \n",
       "        ACBD      490.941176  18081.294118  17393.352941   35474.647059  "
      ]
     },
     "execution_count": 10,
     "metadata": {},
     "output_type": "execute_result"
    }
   ],
   "source": [
    "df_dweekday_means.reset_index(level=['DWEEKDAY'], inplace=True)\n",
    "df_dweekday_means.head(7)"
   ]
  },
  {
   "cell_type": "code",
   "execution_count": 11,
   "metadata": {},
   "outputs": [
    {
     "data": {
      "text/html": [
       "<div>\n",
       "<style scoped>\n",
       "    .dataframe tbody tr th:only-of-type {\n",
       "        vertical-align: middle;\n",
       "    }\n",
       "\n",
       "    .dataframe tbody tr th {\n",
       "        vertical-align: top;\n",
       "    }\n",
       "\n",
       "    .dataframe thead th {\n",
       "        text-align: right;\n",
       "    }\n",
       "</style>\n",
       "<table border=\"1\" class=\"dataframe\">\n",
       "  <thead>\n",
       "    <tr style=\"text-align: right;\">\n",
       "      <th></th>\n",
       "      <th>index</th>\n",
       "      <th>ENTRIES</th>\n",
       "      <th>EXITS</th>\n",
       "      <th>WEEKDAY</th>\n",
       "      <th>ENTRY_DIFFS</th>\n",
       "      <th>EXIT_DIFFS</th>\n",
       "      <th>TOTAL_TRAFFIC</th>\n",
       "    </tr>\n",
       "    <tr>\n",
       "      <th>DWEEKDAY</th>\n",
       "      <th></th>\n",
       "      <th></th>\n",
       "      <th></th>\n",
       "      <th></th>\n",
       "      <th></th>\n",
       "      <th></th>\n",
       "      <th></th>\n",
       "    </tr>\n",
       "  </thead>\n",
       "  <tbody>\n",
       "    <tr>\n",
       "      <th>0</th>\n",
       "      <td>1.777998e+07</td>\n",
       "      <td>1.070265e+10</td>\n",
       "      <td>1.005232e+10</td>\n",
       "      <td>17.786275</td>\n",
       "      <td>50090.494118</td>\n",
       "      <td>43988.692157</td>\n",
       "      <td>93289.564706</td>\n",
       "    </tr>\n",
       "    <tr>\n",
       "      <th>1</th>\n",
       "      <td>1.780830e+07</td>\n",
       "      <td>1.067945e+10</td>\n",
       "      <td>1.000953e+10</td>\n",
       "      <td>197.643137</td>\n",
       "      <td>54436.886275</td>\n",
       "      <td>47741.452941</td>\n",
       "      <td>101339.203922</td>\n",
       "    </tr>\n",
       "    <tr>\n",
       "      <th>2</th>\n",
       "      <td>1.780753e+07</td>\n",
       "      <td>1.074399e+10</td>\n",
       "      <td>1.005839e+10</td>\n",
       "      <td>377.321569</td>\n",
       "      <td>54349.870588</td>\n",
       "      <td>47692.462745</td>\n",
       "      <td>101003.937255</td>\n",
       "    </tr>\n",
       "    <tr>\n",
       "      <th>3</th>\n",
       "      <td>1.776515e+07</td>\n",
       "      <td>1.068202e+10</td>\n",
       "      <td>1.003309e+10</td>\n",
       "      <td>555.870588</td>\n",
       "      <td>55096.370588</td>\n",
       "      <td>48501.492157</td>\n",
       "      <td>102750.750980</td>\n",
       "    </tr>\n",
       "    <tr>\n",
       "      <th>4</th>\n",
       "      <td>1.677221e+07</td>\n",
       "      <td>1.008591e+10</td>\n",
       "      <td>9.469966e+09</td>\n",
       "      <td>693.717079</td>\n",
       "      <td>45826.244502</td>\n",
       "      <td>41585.969333</td>\n",
       "      <td>86696.034205</td>\n",
       "    </tr>\n",
       "    <tr>\n",
       "      <th>5</th>\n",
       "      <td>1.774353e+07</td>\n",
       "      <td>1.068589e+10</td>\n",
       "      <td>1.005199e+10</td>\n",
       "      <td>913.321569</td>\n",
       "      <td>27385.017647</td>\n",
       "      <td>25874.478431</td>\n",
       "      <td>52676.586275</td>\n",
       "    </tr>\n",
       "    <tr>\n",
       "      <th>6</th>\n",
       "      <td>1.766119e+07</td>\n",
       "      <td>1.060837e+10</td>\n",
       "      <td>9.965714e+09</td>\n",
       "      <td>962.929412</td>\n",
       "      <td>23201.274510</td>\n",
       "      <td>20905.298039</td>\n",
       "      <td>43610.425490</td>\n",
       "    </tr>\n",
       "  </tbody>\n",
       "</table>\n",
       "</div>"
      ],
      "text/plain": [
       "                 index       ENTRIES         EXITS     WEEKDAY   ENTRY_DIFFS  \\\n",
       "DWEEKDAY                                                                       \n",
       "0         1.777998e+07  1.070265e+10  1.005232e+10   17.786275  50090.494118   \n",
       "1         1.780830e+07  1.067945e+10  1.000953e+10  197.643137  54436.886275   \n",
       "2         1.780753e+07  1.074399e+10  1.005839e+10  377.321569  54349.870588   \n",
       "3         1.776515e+07  1.068202e+10  1.003309e+10  555.870588  55096.370588   \n",
       "4         1.677221e+07  1.008591e+10  9.469966e+09  693.717079  45826.244502   \n",
       "5         1.774353e+07  1.068589e+10  1.005199e+10  913.321569  27385.017647   \n",
       "6         1.766119e+07  1.060837e+10  9.965714e+09  962.929412  23201.274510   \n",
       "\n",
       "            EXIT_DIFFS  TOTAL_TRAFFIC  \n",
       "DWEEKDAY                               \n",
       "0         43988.692157   93289.564706  \n",
       "1         47741.452941  101339.203922  \n",
       "2         47692.462745  101003.937255  \n",
       "3         48501.492157  102750.750980  \n",
       "4         41585.969333   86696.034205  \n",
       "5         25874.478431   52676.586275  \n",
       "6         20905.298039   43610.425490  "
      ]
     },
     "execution_count": 11,
     "metadata": {},
     "output_type": "execute_result"
    }
   ],
   "source": [
    "plotdata = df_dweekday_means.groupby(['DWEEKDAY']).mean()\n",
    "plotdata"
   ]
  },
  {
   "cell_type": "code",
   "execution_count": 22,
   "metadata": {},
   "outputs": [
    {
     "data": {
      "image/png": "[encoded data removed]",
      "text/plain": [
       "<Figure size 1296x720 with 1 Axes>"
      ]
     },
     "metadata": {},
     "output_type": "display_data"
    }
   ],
   "source": [
    "plt.figure(figsize=[18,10])\n",
    "\n",
    "plt.bar(plotdata.index.tolist(), plotdata['TOTAL_TRAFFIC'], color=['#53868B', '#53868B', '#53868B', '#53868B', '#53868B', 'lightgray', 'lightgray'])\n",
    "\n",
    "\n",
    "ticks_x =['Monday', 'Tuesday', 'Wednesday', 'Thursday', 'Friday', 'Saturday', 'Sunday']\n",
    "\n",
    "ax = plt.gca()\n",
    "\n",
    "plt.title(\"Workdays Have the Most Traffic\", size=30, loc='left')\n",
    "plt.xticks(np.arange(0,7), ticks_x, size = 15)\n",
    "plt.yticks(np.arange(0,120000, 20000), size = 14)\n",
    "#plt.legend(bbox_to_anchor=(1.01,1))\n",
    "plt.ylabel(\"Mean Traffic\", rotation=0, labelpad = 75, size = 15)\n",
    "sns.despine()\n",
    "ax.yaxis.set_label_coords(-0.05, 0.97)\n",
    "plt.gcf().text(0.79,0.08, \"n = 640222 turnstile reports\")\n",
    "plt.gcf().text(0.787,0.06, \"data from 30 busiest stations\")\n",
    "plt.savefig('MeanTraffic-Test.svg')"
   ]
  },
  {
   "cell_type": "code",
   "execution_count": 14,
   "metadata": {},
   "outputs": [
    {
     "data": {
      "text/plain": [
       "4"
      ]
     },
     "execution_count": 14,
     "metadata": {},
     "output_type": "execute_result"
    }
   ],
   "source": [
    "littleframe['DWEEKDAY'].values[-1]"
   ]
  },
  {
   "cell_type": "code",
   "execution_count": null,
   "metadata": {},
   "outputs": [],
   "source": []
  }
 ],
 "metadata": {
  "kernelspec": {
   "display_name": "Python 3",
   "language": "python",
   "name": "python3"
  },
  "language_info": {
   "codemirror_mode": {
    "name": "ipython",
    "version": 3
   },
   "file_extension": ".py",
   "mimetype": "text/x-python",
   "name": "python",
   "nbconvert_exporter": "python",
   "pygments_lexer": "ipython3",
   "version": "3.6.5"
  }
 },
 "nbformat": 4,
 "nbformat_minor": 2
}
