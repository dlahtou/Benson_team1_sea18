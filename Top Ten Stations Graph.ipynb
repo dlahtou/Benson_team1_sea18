{
 "cells": [
  {
   "cell_type": "code",
   "execution_count": 1,
   "metadata": {
    "scrolled": true
   },
   "outputs": [
    {
     "name": "stdout",
     "output_type": "stream",
     "text": [
      "Populating the interactive namespace from numpy and matplotlib\n"
     ]
    }
   ],
   "source": [
    "%pylab inline\n",
    "import numpy as np\n",
    "import pandas as pd\n",
    "import seaborn as sns\n",
    "import matplotlib.pyplot as plt\n"
   ]
  },
  {
   "cell_type": "code",
   "execution_count": 2,
   "metadata": {},
   "outputs": [],
   "source": [
    "from os import listdir\n",
    "from os.path import join"
   ]
  },
  {
   "cell_type": "code",
   "execution_count": 3,
   "metadata": {},
   "outputs": [],
   "source": [
    "dataframes = []\n",
    "\n",
    "for filepath in [join('BensonData', f) for f in listdir('BensonData')]:\n",
    "    new_df = pd.read_csv(filepath, index_col=0)\n",
    "    dataframes.append(new_df)\n",
    "\n",
    "df1 = pd.concat(dataframes)\n",
    "df1.reset_index(inplace=True)"
   ]
  },
  {
   "cell_type": "code",
   "execution_count": 9,
   "metadata": {},
   "outputs": [
    {
     "data": {
      "text/html": [
       "<div>\n",
       "<style scoped>\n",
       "    .dataframe tbody tr th:only-of-type {\n",
       "        vertical-align: middle;\n",
       "    }\n",
       "\n",
       "    .dataframe tbody tr th {\n",
       "        vertical-align: top;\n",
       "    }\n",
       "\n",
       "    .dataframe thead th {\n",
       "        text-align: right;\n",
       "    }\n",
       "</style>\n",
       "<table border=\"1\" class=\"dataframe\">\n",
       "  <thead>\n",
       "    <tr style=\"text-align: right;\">\n",
       "      <th></th>\n",
       "      <th>index</th>\n",
       "      <th>C/A</th>\n",
       "      <th>UNIT</th>\n",
       "      <th>SCP</th>\n",
       "      <th>STATION</th>\n",
       "      <th>LINENAME</th>\n",
       "      <th>DIVISION</th>\n",
       "      <th>DATE</th>\n",
       "      <th>TIME</th>\n",
       "      <th>DESC</th>\n",
       "      <th>ENTRIES</th>\n",
       "      <th>EXITS</th>\n",
       "      <th>DATETIME</th>\n",
       "      <th>WEEKDAY</th>\n",
       "      <th>ENTRY_DIFFS</th>\n",
       "      <th>EXIT_DIFFS</th>\n",
       "      <th>TOTAL_TRAFFIC</th>\n",
       "      <th>DDATE</th>\n",
       "      <th>DWEEKDAY</th>\n",
       "    </tr>\n",
       "  </thead>\n",
       "  <tbody>\n",
       "    <tr>\n",
       "      <th>0</th>\n",
       "      <td>0</td>\n",
       "      <td>A002</td>\n",
       "      <td>R051</td>\n",
       "      <td>02-00-00</td>\n",
       "      <td>59 ST</td>\n",
       "      <td>NQR456W</td>\n",
       "      <td>BMT</td>\n",
       "      <td>03/31/2018</td>\n",
       "      <td>00:00:00</td>\n",
       "      <td>REGULAR</td>\n",
       "      <td>6566463</td>\n",
       "      <td>2224050</td>\n",
       "      <td>2018-03-31 00:00:00</td>\n",
       "      <td>5</td>\n",
       "      <td>NaN</td>\n",
       "      <td>NaN</td>\n",
       "      <td>NaN</td>\n",
       "      <td>2018-03-30</td>\n",
       "      <td>4</td>\n",
       "    </tr>\n",
       "    <tr>\n",
       "      <th>1</th>\n",
       "      <td>1</td>\n",
       "      <td>A002</td>\n",
       "      <td>R051</td>\n",
       "      <td>02-00-00</td>\n",
       "      <td>59 ST</td>\n",
       "      <td>NQR456W</td>\n",
       "      <td>BMT</td>\n",
       "      <td>03/31/2018</td>\n",
       "      <td>04:00:00</td>\n",
       "      <td>REGULAR</td>\n",
       "      <td>6566470</td>\n",
       "      <td>2224053</td>\n",
       "      <td>2018-03-31 04:00:00</td>\n",
       "      <td>5</td>\n",
       "      <td>7.0</td>\n",
       "      <td>3.0</td>\n",
       "      <td>10.0</td>\n",
       "      <td>2018-03-31</td>\n",
       "      <td>5</td>\n",
       "    </tr>\n",
       "    <tr>\n",
       "      <th>2</th>\n",
       "      <td>2</td>\n",
       "      <td>A002</td>\n",
       "      <td>R051</td>\n",
       "      <td>02-00-00</td>\n",
       "      <td>59 ST</td>\n",
       "      <td>NQR456W</td>\n",
       "      <td>BMT</td>\n",
       "      <td>03/31/2018</td>\n",
       "      <td>08:00:00</td>\n",
       "      <td>REGULAR</td>\n",
       "      <td>6566470</td>\n",
       "      <td>2224053</td>\n",
       "      <td>2018-03-31 08:00:00</td>\n",
       "      <td>5</td>\n",
       "      <td>0.0</td>\n",
       "      <td>0.0</td>\n",
       "      <td>0.0</td>\n",
       "      <td>2018-03-31</td>\n",
       "      <td>5</td>\n",
       "    </tr>\n",
       "    <tr>\n",
       "      <th>3</th>\n",
       "      <td>3</td>\n",
       "      <td>A002</td>\n",
       "      <td>R051</td>\n",
       "      <td>02-00-00</td>\n",
       "      <td>59 ST</td>\n",
       "      <td>NQR456W</td>\n",
       "      <td>BMT</td>\n",
       "      <td>03/31/2018</td>\n",
       "      <td>12:00:00</td>\n",
       "      <td>REGULAR</td>\n",
       "      <td>6566470</td>\n",
       "      <td>2224055</td>\n",
       "      <td>2018-03-31 12:00:00</td>\n",
       "      <td>5</td>\n",
       "      <td>0.0</td>\n",
       "      <td>2.0</td>\n",
       "      <td>2.0</td>\n",
       "      <td>2018-03-31</td>\n",
       "      <td>5</td>\n",
       "    </tr>\n",
       "    <tr>\n",
       "      <th>4</th>\n",
       "      <td>4</td>\n",
       "      <td>A002</td>\n",
       "      <td>R051</td>\n",
       "      <td>02-00-00</td>\n",
       "      <td>59 ST</td>\n",
       "      <td>NQR456W</td>\n",
       "      <td>BMT</td>\n",
       "      <td>03/31/2018</td>\n",
       "      <td>16:00:00</td>\n",
       "      <td>REGULAR</td>\n",
       "      <td>6566470</td>\n",
       "      <td>2224055</td>\n",
       "      <td>2018-03-31 16:00:00</td>\n",
       "      <td>5</td>\n",
       "      <td>0.0</td>\n",
       "      <td>0.0</td>\n",
       "      <td>0.0</td>\n",
       "      <td>2018-03-31</td>\n",
       "      <td>5</td>\n",
       "    </tr>\n",
       "  </tbody>\n",
       "</table>\n",
       "</div>"
      ],
      "text/plain": [
       "   index   C/A  UNIT       SCP STATION LINENAME DIVISION        DATE  \\\n",
       "0      0  A002  R051  02-00-00   59 ST  NQR456W      BMT  03/31/2018   \n",
       "1      1  A002  R051  02-00-00   59 ST  NQR456W      BMT  03/31/2018   \n",
       "2      2  A002  R051  02-00-00   59 ST  NQR456W      BMT  03/31/2018   \n",
       "3      3  A002  R051  02-00-00   59 ST  NQR456W      BMT  03/31/2018   \n",
       "4      4  A002  R051  02-00-00   59 ST  NQR456W      BMT  03/31/2018   \n",
       "\n",
       "       TIME     DESC  ENTRIES    EXITS             DATETIME  WEEKDAY  \\\n",
       "0  00:00:00  REGULAR  6566463  2224050  2018-03-31 00:00:00        5   \n",
       "1  04:00:00  REGULAR  6566470  2224053  2018-03-31 04:00:00        5   \n",
       "2  08:00:00  REGULAR  6566470  2224053  2018-03-31 08:00:00        5   \n",
       "3  12:00:00  REGULAR  6566470  2224055  2018-03-31 12:00:00        5   \n",
       "4  16:00:00  REGULAR  6566470  2224055  2018-03-31 16:00:00        5   \n",
       "\n",
       "   ENTRY_DIFFS  EXIT_DIFFS  TOTAL_TRAFFIC       DDATE  DWEEKDAY  \n",
       "0          NaN         NaN            NaN  2018-03-30         4  \n",
       "1          7.0         3.0           10.0  2018-03-31         5  \n",
       "2          0.0         0.0            0.0  2018-03-31         5  \n",
       "3          0.0         2.0            2.0  2018-03-31         5  \n",
       "4          0.0         0.0            0.0  2018-03-31         5  "
      ]
     },
     "execution_count": 9,
     "metadata": {},
     "output_type": "execute_result"
    }
   ],
   "source": [
    "df1.head()"
   ]
  },
  {
   "cell_type": "code",
   "execution_count": 5,
   "metadata": {},
   "outputs": [],
   "source": [
    "df2 = (df1.sort_values(by=['STATION', 'C/A', 'SCP', 'LINENAME', 'UNIT'])\n",
    "          .groupby(['STATION', 'LINENAME'])['TOTAL_TRAFFIC']\n",
    "          .sum())"
   ]
  },
  {
   "cell_type": "code",
   "execution_count": 16,
   "metadata": {},
   "outputs": [
    {
     "data": {
      "text/plain": [
       "STATION          LINENAME    \n",
       "GRD CNTRL-42 ST  4567S           27852140.0\n",
       "34 ST-HERALD SQ  BDFMNQRW        21893193.0\n",
       "34 ST-PENN STA   ACE             15704563.0\n",
       "14 ST-UNION SQ   LNQR456W        14406701.0\n",
       "42 ST-PORT AUTH  ACENQRS1237W    14078973.0\n",
       "TIMES SQ-42 ST   1237ACENQRSW    12801085.0\n",
       "FULTON ST        2345ACJZ        12064174.0\n",
       "47-50 STS ROCK   BDFM            11039468.0\n",
       "59 ST COLUMBUS   ABCD1           11034421.0\n",
       "FLUSHING-MAIN    7               10757264.0\n",
       "Name: TOTAL_TRAFFIC, dtype: float64"
      ]
     },
     "execution_count": 16,
     "metadata": {},
     "output_type": "execute_result"
    }
   ],
   "source": [
    "df3 = df2.sort_values(ascending=False)[:10]\n",
    "transpose(df3.head(10))"
   ]
  },
  {
   "cell_type": "code",
   "execution_count": 7,
   "metadata": {},
   "outputs": [
    {
     "data": {
      "text/plain": [
       "[('GRD CNTRL-42 ST', '4567S'),\n",
       " ('34 ST-HERALD SQ', 'BDFMNQRW'),\n",
       " ('34 ST-PENN STA', 'ACE'),\n",
       " ('14 ST-UNION SQ', 'LNQR456W'),\n",
       " ('42 ST-PORT AUTH', 'ACENQRS1237W'),\n",
       " ('TIMES SQ-42 ST', '1237ACENQRSW'),\n",
       " ('FULTON ST', '2345ACJZ'),\n",
       " ('47-50 STS ROCK', 'BDFM'),\n",
       " ('59 ST COLUMBUS', 'ABCD1'),\n",
       " ('FLUSHING-MAIN', '7')]"
      ]
     },
     "execution_count": 7,
     "metadata": {},
     "output_type": "execute_result"
    }
   ],
   "source": [
    "ticks_y = df3.index.tolist()\n",
    "ticks_y"
   ]
  },
  {
   "cell_type": "code",
   "execution_count": 17,
   "metadata": {},
   "outputs": [
    {
     "data": {
      "image/png": "[encoded data removed]",
      "text/plain": [
       "<Figure size 720x720 with 1 Axes>"
      ]
     },
     "metadata": {},
     "output_type": "display_data"
    }
   ],
   "source": [
    "plt.figure(figsize= [10,10])\n",
    "plt.barh(np.arange(10), df3.values, color = '#53868B')\n",
    "ax = gca()\n",
    "plt.yticks(np.arange(10), [x for x,y in ticks_y])\n",
    "plt.title(\"Top Ten Stations by Traffic\", size = 25, loc = 'left')\n",
    "plt.xlabel('Total Traffic(Tens of Millions of People)', size = 15, labelpad = 15)\n",
    "plt.ylabel('Station', size = 20, rotation = 0, labelpad = 35)\n",
    "ax.yaxis.set_label_coords(-0.06,0.97)\n",
    "sns.despine()\n"
   ]
  },
  {
   "cell_type": "code",
   "execution_count": null,
   "metadata": {},
   "outputs": [],
   "source": []
  }
 ],
 "metadata": {
  "kernelspec": {
   "display_name": "Python 3",
   "language": "python",
   "name": "python3"
  },
  "language_info": {
   "codemirror_mode": {
    "name": "ipython",
    "version": 3
   },
   "file_extension": ".py",
   "mimetype": "text/x-python",
   "name": "python",
   "nbconvert_exporter": "python",
   "pygments_lexer": "ipython3",
   "version": "3.6.5"
  }
 },
 "nbformat": 4,
 "nbformat_minor": 2
}
