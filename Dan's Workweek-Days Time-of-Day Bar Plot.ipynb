{
 "cells": [
  {
   "cell_type": "markdown",
   "metadata": {},
   "source": [
    "# Since we know that workweek-days have consistent ridership, let's break down the average workday by 4-hour periods\n",
    "This shows the average ridership per period for the top 30 stations. I think it quite clearly shows that rush hour periods are the most well-traveled periods on workdays."
   ]
  },
  {
   "cell_type": "code",
   "execution_count": 1,
   "metadata": {},
   "outputs": [
    {
     "name": "stdout",
     "output_type": "stream",
     "text": [
      "Populating the interactive namespace from numpy and matplotlib\n"
     ]
    }
   ],
   "source": [
    "%pylab inline\n",
    "import numpy as np\n",
    "import pandas as pd\n",
    "from os.path import join, isfile\n",
    "from os import listdir\n",
    "import matplotlib.pyplot as plt\n",
    "import seaborn as sns\n",
    "\n",
    "sns.set_style(\"white\") #lolidk"
   ]
  },
  {
   "cell_type": "code",
   "execution_count": 2,
   "metadata": {},
   "outputs": [],
   "source": [
    "## SET THESE VALUES TO CUSTOMIZE CHART AT END\n",
    "number_of_stations = 30                                   # will get top X stations by total traffic\n",
    "acceptable_times = ['00:00:00', '04:00:00', '08:00:00', '12:00:00', '16:00:00', '20:00:00']"
   ]
  },
  {
   "cell_type": "code",
   "execution_count": 3,
   "metadata": {},
   "outputs": [],
   "source": [
    "dataframes = []\n",
    "\n",
    "for filepath in [join('BensonData', f) for f in listdir('BensonData')]:\n",
    "    new_df = pd.read_csv(filepath, index_col=0)\n",
    "    dataframes.append(new_df)\n",
    "\n",
    "df1 = pd.concat(dataframes)\n",
    "df1.reset_index(inplace=True)"
   ]
  },
  {
   "cell_type": "code",
   "execution_count": 4,
   "metadata": {},
   "outputs": [],
   "source": [
    "df2 = (df1[df1['DWEEKDAY'] < 5].sort_values(by=['STATION', 'LINENAME'])\n",
    "          .groupby(['STATION', 'LINENAME'])['TOTAL_TRAFFIC']\n",
    "          .sum())"
   ]
  },
  {
   "cell_type": "code",
   "execution_count": 5,
   "metadata": {},
   "outputs": [
    {
     "data": {
      "text/plain": [
       "STATION          LINENAME    \n",
       "GRD CNTRL-42 ST  4567S           24490130.0\n",
       "34 ST-HERALD SQ  BDFMNQRW        18234734.0\n",
       "34 ST-PENN STA   ACE             12912245.0\n",
       "14 ST-UNION SQ   LNQR456W        11599743.0\n",
       "42 ST-PORT AUTH  ACENQRS1237W    11286282.0\n",
       "FULTON ST        2345ACJZ        10725626.0\n",
       "TIMES SQ-42 ST   1237ACENQRSW    10384668.0\n",
       "47-50 STS ROCK   BDFM            10227542.0\n",
       "PATH NEW WTC     1                9460392.0\n",
       "59 ST COLUMBUS   ABCD1            8954471.0\n",
       "FLUSHING-MAIN    7                8579906.0\n",
       "34 ST-PENN STA   123ACE           7682644.0\n",
       "JKSN HT-ROOSVLT  EFMR7            7262594.0\n",
       "LEXINGTON AV/53  EM6              7078825.0\n",
       "42 ST-BRYANT PK  BDFM7            7030976.0\n",
       "86 ST            456              7012740.0\n",
       "59 ST            456NQRW          6908876.0\n",
       "W 4 ST-WASH SQ   ABCDEFM          6716090.0\n",
       "CANAL ST         JNQRZ6W          6494445.0\n",
       "96 ST            123              6223598.0\n",
       "72 ST            123              5692409.0\n",
       "34 ST-PENN STA   123              5635273.0\n",
       "JAMAICA CENTER   EJZ              5441822.0\n",
       "JAY ST-METROTEC  ACF              5184302.0\n",
       "BOWLING GREEN    45               5000720.0\n",
       "14 ST-UNION SQ   456LNQRW         4939928.0\n",
       "BEDFORD AV       L                4863236.0\n",
       "72 ST-2 AVE      Q                4848259.0\n",
       "BOROUGH HALL     2345R            4845604.0\n",
       "5 AV/53 ST       EM               4723739.0\n",
       "Name: TOTAL_TRAFFIC, dtype: float64"
      ]
     },
     "execution_count": 5,
     "metadata": {},
     "output_type": "execute_result"
    }
   ],
   "source": [
    "df2.sort_values(ascending=False, inplace=True)\n",
    "df2[:number_of_stations]"
   ]
  },
  {
   "cell_type": "code",
   "execution_count": 6,
   "metadata": {
    "scrolled": true
   },
   "outputs": [],
   "source": [
    "# setup filtering df1 to the topX station-linename combinations\n",
    "df1.set_index(['STATION', 'LINENAME'], inplace=True)\n",
    "topX_totaltraffic = df2[:number_of_stations]\n",
    "stlntuples = topX_totaltraffic.index.tolist()\n",
    "\n",
    "# filter df1 to workdays-only, topX stations, acceptable times (multiples of 4)\n",
    "minidf1 = df1[(df1['DWEEKDAY'] < 5)&(df1.index.isin(stlntuples))&(df1['TIME'].isin(acceptable_times))]"
   ]
  },
  {
   "cell_type": "code",
   "execution_count": 7,
   "metadata": {},
   "outputs": [],
   "source": [
    "df_time_means = (minidf1.sort_values(by=['STATION', 'LINENAME']).reset_index()\n",
    "                    .groupby(['STATION', 'LINENAME', 'TIME']).sum().reset_index()\n",
    "                    .groupby(['TIME']).mean())"
   ]
  },
  {
   "cell_type": "code",
   "execution_count": 8,
   "metadata": {},
   "outputs": [],
   "source": [
    "df_time_means.reset_index(inplace=True)\n",
    "df_time_means = df_time_means.reindex([1,2,3,4,5,0]) # move midnight to the end because it's 8pm-midnight\n",
    "df_time_means.set_index(['TIME'], inplace=True)"
   ]
  },
  {
   "cell_type": "code",
   "execution_count": 11,
   "metadata": {
    "scrolled": true
   },
   "outputs": [
    {
     "data": {
      "image/png": "[encoded data removed]",
      "text/plain": [
       "<Figure size 1080x720 with 1 Axes>"
      ]
     },
     "metadata": {},
     "output_type": "display_data"
    }
   ],
   "source": [
    "plt.figure(figsize=[15,10])\n",
    "\n",
    "#plt.bar(np.arange(0,24,4), df_time_means['TOTAL_TRAFFIC'], width=2)\n",
    "\n",
    "plt.bar(np.arange(0,24,4), df_time_means['ENTRY_DIFFS'], width=1.5, align='edge', label='Entries', color = '#53868B')\n",
    "plt.bar(np.arange(-1.5,22.5,4), df_time_means['EXIT_DIFFS'], width=1.5, align='edge', label='Exits', color = '#a8ddb5')\n",
    "\n",
    "timeperiod_labels = ['12AM', '4AM', '8AM', '12PM', '4PM', '8PM', '12AM']\n",
    "\n",
    "ax = plt.gca()\n",
    "plt.title(\"Rush Hours Have the Most Traffic\", size=30, loc='left')\n",
    "plt.xticks(np.arange(-2,26,4), timeperiod_labels, size=20)\n",
    "plt.yticks(np.arange(0,1200000,200000), size =12)\n",
    "plt.legend(bbox_to_anchor=[1,0.9], fontsize=14)\n",
    "plt.ylabel(\"Mean Traffic\", rotation=0, labelpad = 75, size = 15)\n",
    "sns.despine()\n",
    "ax.yaxis.set_label_coords(-0.06, 0.97)\n",
    "ax.tick_params(axis='x', length=10)\n",
    "plt.gcf().text(0.77,0.07, \"n = 264542 turnstile reports\")\n",
    "plt.gcf().text(0.768,0.055, \"data from 30 busiest stations\")\n",
    "plt.savefig('TimeofDay-Test.png')"
   ]
  },
  {
   "cell_type": "code",
   "execution_count": 10,
   "metadata": {},
   "outputs": [
    {
     "name": "stdout",
     "output_type": "stream",
     "text": [
      "<class 'pandas.core.frame.DataFrame'>\n",
      "MultiIndex: 264542 entries, (34 ST-HERALD SQ, BDFMNQRW) to (GRD CNTRL-42 ST, 4567S)\n",
      "Data columns (total 17 columns):\n",
      "index            264542 non-null int64\n",
      "C/A              264542 non-null object\n",
      "UNIT             264542 non-null object\n",
      "SCP              264542 non-null object\n",
      "DIVISION         264542 non-null object\n",
      "DATE             264542 non-null object\n",
      "TIME             264542 non-null object\n",
      "DESC             264542 non-null object\n",
      "ENTRIES          264542 non-null int64\n",
      "EXITS            264542 non-null int64\n",
      "DATETIME         264542 non-null object\n",
      "WEEKDAY          264542 non-null int64\n",
      "ENTRY_DIFFS      251582 non-null float64\n",
      "EXIT_DIFFS       254628 non-null float64\n",
      "TOTAL_TRAFFIC    250216 non-null float64\n",
      "DDATE            264542 non-null object\n",
      "DWEEKDAY         264542 non-null int64\n",
      "dtypes: float64(3), int64(5), object(9)\n",
      "memory usage: 35.1+ MB\n"
     ]
    }
   ],
   "source": [
    "minidf1.info()"
   ]
  },
  {
   "cell_type": "code",
   "execution_count": null,
   "metadata": {},
   "outputs": [],
   "source": []
  }
 ],
 "metadata": {
  "kernelspec": {
   "display_name": "Python 3",
   "language": "python",
   "name": "python3"
  },
  "language_info": {
   "codemirror_mode": {
    "name": "ipython",
    "version": 3
   },
   "file_extension": ".py",
   "mimetype": "text/x-python",
   "name": "python",
   "nbconvert_exporter": "python",
   "pygments_lexer": "ipython3",
   "version": "3.6.5"
  }
 },
 "nbformat": 4,
 "nbformat_minor": 2
}
